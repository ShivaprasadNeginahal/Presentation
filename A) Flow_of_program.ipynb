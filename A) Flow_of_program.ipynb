{
 "cells": [
  {
   "cell_type": "markdown",
   "metadata": {},
   "source": [
    "## What is PYTHON?\n",
    "“High-level programming language, and its core design philosophy is all about code readability and a syntax which allows\n",
    "\n",
    "programmers to express concepts in a few lines of code.”\n",
    "\n",
    "## Template Summary\n",
    "Below is the project template that you can use in your machine learning projects in Python.\n",
    "\n",
    "### 1. Prepare Problem\n",
    "a) Load libraries\n",
    "\n",
    "b) Load dataset\n",
    "\n",
    "### 2. Summarize Data\n",
    "a) Descriptive statistics\n",
    "\n",
    "b) Data visualizations\n",
    "\n",
    "### 3. Prepare Data\n",
    "a) Data Cleaning\n",
    "\n",
    "b) Data Transforms\n",
    "\n",
    "### 4. Evaluate Algorithms\n",
    "a) Split-out validation dataset\n",
    "\n",
    "b) Test options and evaluation metric\n",
    "\n",
    "c) Spot Check Algorithms\n",
    "\n",
    "d) Compare Algorithms\n",
    "\n",
    "### 5. Improve Accuracy\n",
    "a) Algorithm Tuning\n",
    "\n",
    "b) Ensembles\n",
    "\n",
    "### 6. Finalize Model\n",
    "a) Predictions on validation dataset\n",
    "\n",
    "b) Create standalone model on entire training dataset\n",
    "\n",
    "c) Save model for later use\n"
   ]
  },
  {
   "cell_type": "markdown",
   "metadata": {},
   "source": [
    "## Standard Library Includes\n",
    "#### Numpy:\n",
    "NumPy is the fundamental package for scientific computing with Python\n",
    "#### pandas:\n",
    "Pandas is an open source, BSD-licensed library providing high-performance, easy-to-use data structures and data analysis tools\n",
    "#### matplotlib: \n",
    "2D plotting library which produces publication quality figures in a variety of formats and interactive environments across platforms\n",
    "#### seaborn: \n",
    "Seaborn is a Python visualization library based on matplotlib. It provides a high-level interface for drawing attractive statistical graphics\n",
    "#### sklearn:\n",
    "Library that implements a range of machine learning, preprocessing, cross-validation and visualization algorithms"
   ]
  },
  {
   "cell_type": "markdown",
   "metadata": {},
   "source": [
    "\n",
    "## Difference Between Classification and Regression in Machine Learning¶\n",
    "### 1) Classification:\n",
    "classification is about predicting a label\n",
    "*A classification problem requires that examples be classified into one of two or more classes.\n",
    "\n",
    "*A problem with two classes is often called a two-class or binary classification problem.\n",
    "\n",
    "*A problem with more than two classes is often called a multi-class classification problem.\n",
    "\n",
    "Formula:\n",
    "accuracy = correct predictions / total predictions * 100\n",
    "\n",
    "### 2) Regression:\n",
    "Regression is about a predicting the quantity\n",
    "*A regression problem requires the prediction of a quantity.\n",
    "\n",
    "*A regression can have real valued or discrete input variables.\n",
    "\n",
    "*A problem with multiple input variables is often called a multivariate regression problem.\n",
    "\n",
    "Formula:\n",
    "RMSE = sqrt(average(error^2))\n",
    "\n"
   ]
  }
 ],
 "metadata": {
  "kernelspec": {
   "display_name": "Python 2",
   "language": "python",
   "name": "python2"
  },
  "language_info": {
   "codemirror_mode": {
    "name": "ipython",
    "version": 2
   },
   "file_extension": ".py",
   "mimetype": "text/x-python",
   "name": "python",
   "nbconvert_exporter": "python",
   "pygments_lexer": "ipython2",
   "version": "2.7.13"
  }
 },
 "nbformat": 4,
 "nbformat_minor": 2
}
